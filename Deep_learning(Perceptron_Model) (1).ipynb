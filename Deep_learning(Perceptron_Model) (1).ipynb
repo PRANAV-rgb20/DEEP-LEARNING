{
  "nbformat": 4,
  "nbformat_minor": 0,
  "metadata": {
    "colab": {
      "provenance": []
    },
    "kernelspec": {
      "name": "python3",
      "display_name": "Python 3"
    },
    "language_info": {
      "name": "python"
    }
  },
  "cells": [
    {
      "cell_type": "code",
      "source": [
        "import numpy as np\n",
        "\n",
        "\n",
        "class Perceptron:\n",
        "    def __init__(self, input_size, learning_rate=0.01, epochs=1000):\n",
        "        self.weights = np.random.rand(input_size + 1)\n",
        "        self.learning_rate = learning_rate\n",
        "        self.epochs = epochs\n",
        "\n",
        "    def activation(self, x):\n",
        "        return 1 if x >= 0 else 0\n",
        "\n",
        "    def predict(self, inputs):\n",
        "        inputs_with_bias = np.insert(inputs, 0, 1)\n",
        "        weighted_sum = np.dot(self.weights, inputs_with_bias)\n",
        "        return self.activation(weighted_sum)\n",
        "\n",
        "    def train(self, training_inputs, labels):\n",
        "        for epoch in range(self.epochs):\n",
        "            for inputs, label in zip(training_inputs, labels):\n",
        "                prediction = self.predict(inputs)\n",
        "                error = label - prediction\n",
        "                inputs_with_bias = np.insert(inputs, 0, 1)\n",
        "                self.weights += self.learning_rate * error * inputs_with_bias\n",
        "\n",
        "\n",
        "class FullAdder:\n",
        "    def __init__(self):\n",
        "\n",
        "        self.and1 = Perceptron(input_size=2)\n",
        "        self.and2 = Perceptron(input_size=2)\n",
        "        self.or1 = Perceptron(input_size=2)\n",
        "        self.xor1 = Perceptron(input_size=2)\n",
        "\n",
        "\n",
        "        self.train_gates()\n",
        "\n",
        "    def train_gates(self):\n",
        "\n",
        "        and1_inputs = np.array([[1, 1], [1, 0], [0, 1], [0, 0]])\n",
        "        and1_labels = np.array([1, 0, 0, 0])\n",
        "        self.and1.train(and1_inputs, and1_labels)\n",
        "\n",
        "        and2_inputs = np.array([[1, 1], [1, 0], [0, 1], [0, 0]])\n",
        "        and2_labels = np.array([1, 0, 0, 0])\n",
        "        self.and2.train(and2_inputs, and2_labels)\n",
        "\n",
        "\n",
        "        or_inputs = np.array([[1, 1], [1, 0], [0, 1], [0, 0]])\n",
        "        or_labels = np.array([1, 1, 1, 0])\n",
        "        self.or1.train(or_inputs, or_labels)\n",
        "\n",
        "\n",
        "        xor_inputs = np.array([[1, 1], [1, 0], [0, 1], [0, 0]])\n",
        "        xor_labels = np.array([0, 1, 1, 0])\n",
        "        self.xor1.train(xor_inputs, xor_labels)\n",
        "\n",
        "    def compute(self, A, B, Cin):\n",
        "\n",
        "        sum1 = self.xor1.predict([A, B])\n",
        "        sum_out = self.xor1.predict([sum1, Cin])\n",
        "\n",
        "        carry1 = self.and1.predict([A, B])\n",
        "        carry2 = self.and2.predict([sum1, Cin])\n",
        "        carry_out = self.or1.predict([carry1, carry2])\n",
        "\n",
        "        return sum_out, carry_out\n",
        "\n",
        "\n",
        "if __name__ == \"__main__\":\n",
        "    fa = FullAdder()\n",
        "\n",
        "\n",
        "    test_cases = [\n",
        "        (0, 0, 0),\n",
        "        (0, 0, 1),\n",
        "        (0, 1, 0),\n",
        "        (0, 1, 1),\n",
        "        (1, 0, 0),\n",
        "        (1, 0, 1),\n",
        "        (1, 1, 0),\n",
        "        (1, 1, 1),\n",
        "    ]\n",
        "\n",
        "    print(\"A B Cin => Sum Carry\")\n",
        "    for A, B, Cin in test_cases:\n",
        "        Sum, Carry = fa.compute(A, B, Cin)\n",
        "        print(f\"{A} {B} {Cin} => {Sum} {Carry}\")\n"
      ],
      "metadata": {
        "colab": {
          "base_uri": "https://localhost:8080/"
        },
        "id": "3e_6gFuHnnfC",
        "outputId": "413e44ec-b136-4d44-bb47-ffe199ab164d"
      },
      "execution_count": 8,
      "outputs": [
        {
          "output_type": "stream",
          "name": "stdout",
          "text": [
            "A B Cin => Sum Carry\n",
            "0 0 0 => 0 0\n",
            "0 0 1 => 1 0\n",
            "0 1 0 => 1 0\n",
            "0 1 1 => 1 1\n",
            "1 0 0 => 1 0\n",
            "1 0 1 => 1 1\n",
            "1 1 0 => 1 1\n",
            "1 1 1 => 1 1\n"
          ]
        }
      ]
    }
  ]
}